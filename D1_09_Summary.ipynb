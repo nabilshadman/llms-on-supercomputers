{
 "cells": [
  {
   "cell_type": "markdown",
   "id": "caf06f31-4c5b-4afc-bae5-db356cbd0b93",
   "metadata": {},
   "source": [
    "# Summary"
   ]
  },
  {
   "cell_type": "markdown",
   "id": "92350bca-3545-4bbc-a82a-670bb7c67743",
   "metadata": {},
   "source": [
    "### Quantization\n",
    "Quantization is a technique used to reduce the computational requirements and memory footprint of deep learning models.\n",
    "\n",
    "| Model parameters loaded as | GPU memory usage | Inference time for 64 prompts |\n",
    "| - | - | - |\n",
    "| FP32 | 4.60 GB | 13.1 s |\n",
    "| bfloat16 | 2.30 GB | 6.1 s |\n",
    "| 4 bit quantized values | 0.94 GB | 7.8 s |"
   ]
  },
  {
   "cell_type": "markdown",
   "id": "8fe8d4cd-fd90-45d5-8aae-bf71dd07b41b",
   "metadata": {},
   "source": [
    "#### Parameter-Efficient Fine-Tuning (PEFT)\n",
    "PEFT techniques aim to reduce the number of trainable parameters, allowing for efficient fine-tuning with less memory and computational cost. We loaded a pre-trained model with quantized parameters and added **Low-Rank Adapters (LoRA)** in full precision to still be able to perform fine-tuning."
   ]
  },
  {
   "cell_type": "markdown",
   "id": "bae2d132-9296-46df-a6d7-50d03e5d1f5a",
   "metadata": {},
   "source": [
    "#### Unsloth\n",
    "Unsloth is a library that contains many optimizations, including optimized GPU kernels created by manually deriving all compute heavy math steps. By using these optimized kernels, a significant speed-up can be obtained.\n",
    "\n",
    "| Training library | Training time for 100 batches | Relative training time |\n",
    "| - | - | - |\n",
    "| Transformers and TRL natively | 58 seconds | 100 % |\n",
    "| Transformers and TRL with Unsloth | 36 seconds | 62 % |"
   ]
  },
  {
   "cell_type": "code",
   "execution_count": null,
   "id": "47fc3489-3db3-453d-92a6-c70bbf772f3e",
   "metadata": {},
   "outputs": [],
   "source": []
  }
 ],
 "metadata": {
  "kernelspec": {
   "display_name": "Python 3 (ipykernel)",
   "language": "python",
   "name": "python3"
  },
  "language_info": {
   "codemirror_mode": {
    "name": "ipython",
    "version": 3
   },
   "file_extension": ".py",
   "mimetype": "text/x-python",
   "name": "python",
   "nbconvert_exporter": "python",
   "pygments_lexer": "ipython3",
   "version": "3.11.13"
  }
 },
 "nbformat": 4,
 "nbformat_minor": 5
}
